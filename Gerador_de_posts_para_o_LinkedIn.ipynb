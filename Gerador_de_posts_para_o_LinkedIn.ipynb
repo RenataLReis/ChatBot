{
  "nbformat": 4,
  "nbformat_minor": 0,
  "metadata": {
    "colab": {
      "provenance": [],
      "include_colab_link": true
    },
    "kernelspec": {
      "name": "python3",
      "display_name": "Python 3"
    },
    "language_info": {
      "name": "python"
    }
  },
  "cells": [
    {
      "cell_type": "markdown",
      "metadata": {
        "id": "view-in-github",
        "colab_type": "text"
      },
      "source": [
        "<a href=\"https://colab.research.google.com/github/RenataLReis/ChatBot/blob/main/Gerador_de_posts_para_o_LinkedIn.ipynb\" target=\"_parent\"><img src=\"https://colab.research.google.com/assets/colab-badge.svg\" alt=\"Open In Colab\"/></a>"
      ]
    },
    {
      "cell_type": "code",
      "source": [
        "!pip -q install google-genai\n",
        "# Instala Framework de agentes do Google\n",
        "!pip install -q google-adk"
      ],
      "metadata": {
        "id": "UCCbECexLk_h"
      },
      "execution_count": 57,
      "outputs": []
    },
    {
      "cell_type": "code",
      "source": [
        "#Configura a API Key do Google Gemini\n",
        "\n",
        "import os\n",
        "from google.colab import userdata\n",
        "\n",
        "os.environ[\"GOOGLE_API_KEY\"] = userdata.get('GOOGLE_API_KEY')"
      ],
      "metadata": {
        "id": "NfCqHo1tLk8P"
      },
      "execution_count": 58,
      "outputs": []
    },
    {
      "cell_type": "code",
      "source": [
        "#Configura o cliente da SDK do Gemini\n",
        "\n",
        "from google import genai\n",
        "\n",
        "client = genai.Client()\n",
        "\n",
        "MODEL_ID = \"gemini-2.0-flash\""
      ],
      "metadata": {
        "id": "bV4w0H5TLk5g"
      },
      "execution_count": 59,
      "outputs": []
    },
    {
      "cell_type": "code",
      "execution_count": 60,
      "metadata": {
        "id": "aePV2bdfDeoW"
      },
      "outputs": [],
      "source": [
        "from google.adk.agents import Agent\n",
        "from google.adk.runners import Runner\n",
        "from google.adk.sessions import InMemorySessionService\n",
        "from google.adk.tools import google_search\n",
        "from google.genai import types  # Para criar conteúdos (Content e Part)\n",
        "from datetime import date\n",
        "import textwrap # Para formatar melhor a saída de texto\n",
        "from IPython.display import HTML, display, Markdown # Para exibir texto formatado no Colab\n",
        "import requests # Para fazer requisições HTTP\n",
        "import warnings\n",
        "\n",
        "warnings.filterwarnings(\"ignore\")"
      ]
    },
    {
      "cell_type": "code",
      "source": [
        "def call_agent(agent: Agent, message_text: str) -> str:\n",
        "    session_service = InMemorySessionService()\n",
        "    session = session_service.create_session(app_name=agent.name, user_id=\"user1\", session_id=\"session1\")\n",
        "    runner = Runner(agent=agent, app_name=agent.name, session_service=session_service)\n",
        "    content = types.Content(role=\"user\", parts=[types.Part(text=message_text)])\n",
        "\n",
        "    final_response = \"\"\n",
        "\n",
        "    for event in runner.run(user_id=\"user1\", session_id=\"session1\", new_message=content):\n",
        "        if event.is_final_response():\n",
        "          for part in event.content.parts:\n",
        "            if part.text is not None:\n",
        "              final_response += part.text\n",
        "              final_response += \"\\n\"\n",
        "    return final_response"
      ],
      "metadata": {
        "id": "_xP4lWhsS5ko"
      },
      "execution_count": 50,
      "outputs": []
    },
    {
      "cell_type": "code",
      "source": [
        "def to_markdown(text):\n",
        "  text = text.replace('•', '  *')\n",
        "  return Markdown(textwrap.indent(text, '> ', predicate=lambda _: True))"
      ],
      "metadata": {
        "id": "8dosiodaxfFR"
      },
      "execution_count": 61,
      "outputs": []
    },
    {
      "cell_type": "code",
      "source": [
        "##########################################\n",
        "# --- Agente 1: Buscador de Artigos --- #\n",
        "##########################################\n",
        "def agente_buscador(topico, data_de_hoje):\n",
        "\n",
        "    buscador = Agent(\n",
        "        name=\"agente_buscador\",\n",
        "        model=\"gemini-2.0-flash\",\n",
        "        instruction=\"\"\"\n",
        "        Você é um assistente de pesquisa. A sua tarefa é usar a ferramenta de busca do google (google_search)\n",
        "        para trazer os artigos mais importantes sobre o tema fornecido.\n",
        "        Foque em no máximo 10 artigos relevantes. O nível de relevância deve ser determinado pela quantidade de fontes citadas e\n",
        "        pela relevância do publicador na área.\n",
        "        Pelo menos 5 desses artigos devem ser atuais, de no máximo um mês antes da data de hoje.\n",
        "        \"\"\",\n",
        "        description=\"Agente que busca informações no Google\",\n",
        "        tools=[google_search]\n",
        "    )\n",
        "\n",
        "    entrada_do_agente_buscador = f\"Tópico: {topico}\\nData de hoje: {data_de_hoje}\"\n",
        "\n",
        "    lancamentos = call_agent(buscador, entrada_do_agente_buscador)\n",
        "    return lancamentos"
      ],
      "metadata": {
        "id": "o8bqIfi_DyH8"
      },
      "execution_count": 62,
      "outputs": []
    },
    {
      "cell_type": "code",
      "source": [
        "################################################\n",
        "# --- Agente 2: Planejador de posts --- #\n",
        "################################################\n",
        "def agente_planejador(topico, lancamentos_buscados):\n",
        "    planejador = Agent(\n",
        "        name=\"agente_planejador\",\n",
        "        model=\"gemini-2.0-flash\",\n",
        "        instruction=\"\"\"\n",
        "        Você é um planejador de conteúdo, especialista em LinkedIn. Com base na lista de\n",
        "        artigos mais recentes e relevantes do buscador, você deve:\n",
        "        usar a ferramenta de busca do Google (google_search) para criar um plano sobre\n",
        "        quais são os pontos mais relevantes que poderíamos abordar em um post sobre\n",
        "        cada um deles. Você também pode usar o (google_search) para encontrar mais\n",
        "        informações sobre os temas e aprofundar.\n",
        "        Ao final, você irá escolher o tema mais relevante entre eles com base nas suas pesquisas\n",
        "        e retornar esse tema, seus pontos mais relevantes, e um plano com os assuntos\n",
        "        a serem abordados no post que será escrito posteriormente.\n",
        "        \"\"\",\n",
        "        description=\"Agente que planeja posts\",\n",
        "        tools=[google_search])\n",
        "\n",
        "    entrada_do_agente_planejador = f\"Tópico:{topico}\\nLançamentos buscados: {lancamentos_buscados}\"\n",
        "\n",
        "    plano_do_post = call_agent(planejador, entrada_do_agente_planejador)\n",
        "\n",
        "    return plano_do_post"
      ],
      "metadata": {
        "id": "y3VO1uo5_ghO"
      },
      "execution_count": 63,
      "outputs": []
    },
    {
      "cell_type": "code",
      "source": [
        "######################################\n",
        "# --- Agente 3: Redator do Post --- #\n",
        "######################################\n",
        "def agente_redator(topico, plano_de_post):\n",
        "    redator = Agent(\n",
        "        name=\"agente_redator\",\n",
        "        model=\"gemini-2.0-flash\",\n",
        "        instruction=\"\"\"\n",
        "            Você é um Redator Criativo especializado em criar posts profissionais para o LinkedIn.\n",
        "            Você escreve posts para a engenheira de Software Renata Reis, especialista em .NET.\n",
        "            Todos os posts devem ser escritos em língua inglesa e terem um tom profissional, mas que inspire curiosidade e engajamento.\n",
        "            Utilize o tema fornecido no plano de post e os pontos mais relevantes fornecidos e, com base nisso,\n",
        "            escreva um rascunho de post para o LinkedIn sobre o tema indicado.\n",
        "            O post deve ser engajador, informativo, com linguagem técnica e ser atrativo para recrutadores.\n",
        "            Incluir 2 a 4 hashtags no final.\n",
        "            \"\"\",\n",
        "        description=\"Agente redator de posts engajadores para LinkedIn\")\n",
        "    entrada_do_agente_redator = f\"Tópico: {topico}\\nPlano de post: {plano_de_post}\"\n",
        "\n",
        "    rascunho = call_agent(redator, entrada_do_agente_redator)\n",
        "    return rascunho"
      ],
      "metadata": {
        "id": "uOqlg2TRLVh1"
      },
      "execution_count": 64,
      "outputs": []
    },
    {
      "cell_type": "code",
      "source": [
        "##########################################\n",
        "# --- Agente 4: Revisor de Qualidade --- #\n",
        "##########################################\n",
        "def agente_revisor(topico, rascunho_gerado):\n",
        "    revisor = Agent(\n",
        "        name=\"agente_revisor\",\n",
        "        model=\"gemini-2.0-flash\",\n",
        "        instruction=\"\"\"\n",
        "            Você é um Editor e Revisor de Conteúdo meticuloso, especializado em posts para redes sociais, com foco no LinkedIn.\n",
        "            O público do post são outros desenvolvedores, mas também recrutadores e gerentes de tecnologia, então o tom deve ser profissional.\n",
        "            Revise o rascunho de post de LinkedIn abaixo sobre o tópico indicado, verificando clareza, concisão, correção e tom.\n",
        "            Se o rascunho estiver bom, responda apenas 'O rascunho está ótimo e pronto para publicar!'.\n",
        "            Caso haja problemas, aponte-os e sugira melhorias.\n",
        "            \"\"\",\n",
        "        description=\"Agente revisor de post para redes sociais.\"\n",
        "    )\n",
        "    entrada_do_agente_revisor = f\"Tópico: {topico}\\nRascunho: {rascunho_gerado}\"\n",
        "    texto_revisado = call_agent(revisor, entrada_do_agente_revisor)\n",
        "    return texto_revisado"
      ],
      "metadata": {
        "id": "_aTb1SdkLeT6"
      },
      "execution_count": 65,
      "outputs": []
    },
    {
      "cell_type": "code",
      "source": [
        "data_de_hoje = date.today().strftime(\"%d/%m/%Y\")\n",
        "\n",
        "print(\"🚀 Iniciando o Sistema de Criação de Posts para LinkedIn com 4 Agentes 🚀\")\n",
        "\n",
        "# --- Obter o Tópico do Usuário ---\n",
        "topico = input(\"❓ Por favor, digite o TÓPICO sobre o qual você quer criar o post: \")\n",
        "\n",
        "# Inserir lógica do sistema de agentes ################################################\n",
        "if not topico:\n",
        "    print(\"Você esqueceu de digitar o tópico!\")\n",
        "else:\n",
        "    print(f\"Maravilha! Vamos então criar o post sobre novidades em {topico}\")\n",
        "\n",
        "    lancamentos_buscados = agente_buscador(topico, data_de_hoje)\n",
        "    print(\"\\n--- 📝 Resultado do Agente 1 (Buscador) ---\\n\")\n",
        "    display(to_markdown(lancamentos_buscados))\n",
        "    print(\"--------------------------------------------------------------\")\n",
        "\n",
        "    plano_de_post = agente_planejador(topico, lancamentos_buscados)\n",
        "    print(\"\\n--- 📝 Resultado do Agente 2 (Planejador) ---\\n\")\n",
        "    display(to_markdown(plano_de_post))\n",
        "    print(\"--------------------------------------------------------------\")\n",
        "\n",
        "    rascunho_de_post = agente_redator(topico, plano_de_post)\n",
        "    print(\"\\n--- 📝 Resultado do Agente 3 (Redator) ---\\n\")\n",
        "    display(to_markdown(rascunho_de_post))\n",
        "    print(\"--------------------------------------------------------------\")\n",
        "\n",
        "    post_final = agente_revisor(topico, rascunho_de_post)\n",
        "    print(\"\\n--- 📝 Resultado do Agente 4 (Revisor) ---\\n\")\n",
        "    display(to_markdown(post_final))\n",
        "    print(\"--------------------------------------------------------------\")"
      ],
      "metadata": {
        "colab": {
          "base_uri": "https://localhost:8080/",
          "height": 1000
        },
        "id": "6xzI6LKzxxnN",
        "outputId": "7b383ae8-cd10-4a69-c6cd-974b5b0a6826"
      },
      "execution_count": 66,
      "outputs": [
        {
          "output_type": "stream",
          "name": "stdout",
          "text": [
            "🚀 Iniciando o Sistema de Criação de Posts para LinkedIn com 4 Agentes 🚀\n",
            "❓ Por favor, digite o TÓPICO sobre o qual você quer criar o post: uso de mecanismos de busca feito pela IA\n",
            "Maravilha! Vamos então criar o post sobre novidades em uso de mecanismos de busca feito pela IA\n",
            "\n",
            "--- 📝 Resultado do Agente 1 (Buscador) ---\n",
            "\n"
          ]
        },
        {
          "output_type": "display_data",
          "data": {
            "text/plain": [
              "<IPython.core.display.Markdown object>"
            ],
            "text/markdown": "> Para fornecer as informações mais relevantes sobre o uso de mecanismos de busca pela IA, farei algumas buscas no Google para identificar artigos recentes e relevantes sobre o tema.\n> \n> \n> Com base nas pesquisas realizadas, aqui estão os principais pontos sobre o uso de mecanismos de busca pela IA:\n> \n> **1. Impacto e Evolução da IA nos Mecanismos de Busca:**\n> \n> *   **Personalização e Precisão:** A IA está revolucionando os mecanismos de busca, permitindo que eles entendam melhor a intenção do usuário e forneçam resultados mais personalizados e precisos. Algoritmos de IA como o RankBrain do Google e a IA do Bing interpretam o contexto e a semântica das perguntas, indo além das simples palavras-chave. [1, 2]\n> *   **Processamento de Linguagem Natural (PLN) e Reconhecimento de Imagem:** Recursos como PLN e reconhecimento de imagem tornaram os mecanismos de busca mais inteligentes, melhorando a relevância dos resultados. [1]\n> *   **Adaptação Contínua:** Os mecanismos de busca estão em constante evolução, com a IA desempenhando um papel crucial em seu desenvolvimento. [1]\n> \n> **2. Exemplos de Aplicações da IA nos Mecanismos de Busca:**\n> \n> *   **Google:** O Google se destaca como um dos principais exemplos de aplicação da IA, permitindo resultados de pesquisa mais rápidos e reconhecimento de sinônimos e assuntos relacionados. A IA aprende sobre as intenções de busca dos usuários, proporcionando uma melhoria contínua. [3]\n> *   **Bing:** O Bing integra IA com sugestões alimentadas por IA e respostas inteligentes, oferecendo recomendações inteligentes e informações úteis. [1]\n> *   **Chatbots com IA:** Chatbots com IA generativa estão se tornando mecanismos de resposta alternativos, substituindo consultas que antes eram feitas apenas por meio de mecanismos de pesquisa tradicionais. [5, 6]\n> \n> **3. IA vs. Mecanismos de Busca Tradicionais:**\n> \n> *   **Resultados Diretos vs. Listas de Links:** Mecanismos de pesquisa tradicionais exibem uma lista de links, enquanto os de IA geram resumos dos resultados, economizando tempo e esforço. [4]\n> *   **Foco na Semântica vs. Palavras-Chave:** A pesquisa com IA se concentra na semântica, enquanto a pesquisa tradicional se concentra em palavras-chave. [4]\n> *   **Experiências Personalizadas e Conversacionais:** A IA oferece experiências mais personalizadas e de conversação. [4]\n> \n> **4. Desafios e Considerações:**\n> \n> *   **Qualidade do Conteúdo:** Os algoritmos de mecanismos de pesquisa valorizam cada vez mais a qualidade do conteúdo para compensar a grande quantidade de informações geradas pela IA. [6]\n> *   **Autenticidade do Conteúdo:** Há uma ênfase crescente na marca d'água e outros meios para autenticar o conteúdo de alto valor, com regulamentações governamentais responsabilizando as empresas pela identificação de materiais de marketing criados pela IA. [6]\n> *   **Potencial de Viés:** Mecanismos de busca com IA dependem da qualidade dos dados nos quais foram treinados, e resultados podem ser tendenciosos ou imprecisos se os dados de treinamento forem falhos. [9]\n> \n> **5. Ferramentas e Motores de Busca com IA:**\n> \n> *   **Perplexity AI:** Oferece respostas concisas com fontes confiáveis, ideal para pesquisas acadêmicas e profissionais. [12, 20]\n> *   **You.com:** Permite pesquisas baseadas em IA com diferentes modos e é altamente personalizável. [20]\n> *   **Elicit:** Voltado para pesquisadores e estudantes, utiliza IA para revisar artigos científicos e encontrar referências. [20]\n> *   **ChatGPT:** Evoluiu para se tornar uma ferramenta de pesquisa completa, com acesso à internet e habilidades de síntese. [20]\n> *   **Google AI Mode:** Utiliza o modelo de linguagem Gemini 2.0 para fornecer resultados mais atualizados e precisos, com raciocínio e busca em tempo real. [15]\n> *   **SearchGPT (OpenAI):** Combina IA generativa com informações atualizadas da web para uma experiência mais personalizada, mas está em fase de testes. [18]\n> \n> **6. Tendências Futuras:**\n> \n> *   **Adoção Crescente:** Espera-se que o uso de IA para pesquisa continue a crescer, com projeções de que 90 bilhões de adultos americanos usarão IA para pesquisa até 2027. [4, 8]\n> *   **Marketing de Busca em Transformação:** O marketing de busca está perdendo espaço para a crescente adoção de chatbots de IA. [5]\n> *   **IA como Protagonista:** A IA está se tornando a protagonista na experiência de busca, transformando a maneira como navegamos na internet. [5]\n> \n> Em resumo, a IA está transformando os mecanismos de busca, tornando-os mais inteligentes, personalizados e eficientes. Embora existam desafios a serem superados, como a qualidade e autenticidade do conteúdo, a tendência é que a IA continue a desempenhar um papel cada vez mais importante na forma como encontramos informações online.\n> \n"
          },
          "metadata": {}
        },
        {
          "output_type": "stream",
          "name": "stdout",
          "text": [
            "--------------------------------------------------------------\n",
            "\n",
            "--- 📝 Resultado do Agente 2 (Planejador) ---\n",
            "\n"
          ]
        },
        {
          "output_type": "display_data",
          "data": {
            "text/plain": [
              "<IPython.core.display.Markdown object>"
            ],
            "text/markdown": "> Com base nas suas pesquisas, aqui está um plano detalhado para um post no LinkedIn sobre o uso de mecanismos de busca pela IA, focando no tema mais relevante e abrangente:\n> \n> **Tema escolhido:** Impacto e Evolução da IA nos Mecanismos de Busca\n> \n> **Relevância:** Este tema é fundamental porque aborda a transformação contínua e o futuro da pesquisa online, algo que interessa a profissionais de diversas áreas.\n> \n> **Tópicos a serem abordados no post:**\n> \n> 1.  **Introdução:**\n> \n>     *   **Título Atraente:** \"Como a Inteligência Artificial Está Reinventando a Busca Online\" ou \"O Futuro da Busca: IA Personalizada e Eficiente\".\n>     *   **Contextualização:** Começar com uma pergunta provocadora sobre como as pessoas buscam informações atualmente e como isso está mudando.\n>     *   **Tese:** Apresentar a IA como um divisor de águas nos mecanismos de busca, destacando sua capacidade de personalização e precisão.\n> 2.  **O Impacto da IA na Personalização e Precisão:**\n> \n>     *   **Explicação:** Detalhar como a IA permite que os mecanismos de busca compreendam melhor a intenção do usuário, indo além das palavras-chave.\n>     *   **Exemplos:** Mencionar algoritmos como RankBrain do Google e a IA do Bing, explicando como eles interpretam o contexto e a semântica das perguntas.\n>     *   **Dados:** Incluir estatísticas sobre o aumento da precisão nos resultados de busca devido à IA (se disponíveis).\n> 3.  **Processamento de Linguagem Natural (PLN) e Reconhecimento de Imagem:**\n> \n>     *   **PLN:** Explicar como o PLN permite que os mecanismos de busca entendam a linguagem humana, melhorando a relevância dos resultados.\n>     *   **Reconhecimento de Imagem:** Mostrar como o reconhecimento de imagem possibilita buscar informações a partir de imagens, expandindo as possibilidades de pesquisa.\n>     *   **Exemplos Práticos:** Apresentar exemplos de como esses recursos são utilizados no dia a dia.\n> 4.  **Exemplos de Aplicações da IA em Mecanismos de Busca:**\n> \n>     *   **Google:** Destacar como o Google utiliza a IA para oferecer resultados mais rápidos e precisos, reconhecendo sinônimos e assuntos relacionados.\n>     *   **Bing:** Mencionar a integração da IA no Bing com sugestões e respostas inteligentes, oferecendo recomendações úteis.\n>     *   **Chatbots com IA:** Explorar como os chatbots de IA generativa estão se tornando alternativas aos mecanismos de busca tradicionais, respondendo a perguntas diretamente.\n> 5.  **IA vs. Mecanismos de Busca Tradicionais:**\n> \n>     *   **Comparativo:** Apresentar as diferenças entre os mecanismos de busca tradicionais e os que utilizam IA.\n>     *   **Resultados Diretos vs. Listas de Links:** Explicar como a IA gera resumos dos resultados, economizando tempo.\n>     *   **Foco na Semântica vs. Palavras-Chave:** Detalhar como a IA se concentra na semântica, enquanto a pesquisa tradicional se concentra em palavras-chave.\n>     *   **Experiências Personalizadas:** Mostrar como a IA oferece experiências mais personalizadas e conversacionais.\n> 6.  **Desafios e Considerações:**\n> \n>     *   **Qualidade do Conteúdo:** Enfatizar a importância da qualidade do conteúdo para compensar a grande quantidade de informações geradas pela IA.\n>     *   **Autenticidade do Conteúdo:** Destacar a necessidade de autenticar o conteúdo de alto valor, mencionando a marca d'água e regulamentações governamentais.\n>     *   **Potencial de Viés:** Alertar sobre o potencial de viés nos resultados de busca, dependendo da qualidade dos dados de treinamento da IA.\n> 7.  **Ferramentas e Motores de Busca com IA:**\n> \n>     *   **Perplexity AI:** Destacar suas respostas concisas com fontes confiáveis.\n>     *   **You.com:** Mencionar sua personalização e diferentes modos de pesquisa.\n>     *   **Elicit:** Apresentar sua utilidade para pesquisadores e estudantes.\n>     *   **ChatGPT:** Explorar sua evolução como ferramenta de pesquisa completa.\n>     *   **Google AI Mode:** Mencionar o uso do modelo Gemini 2.0 para resultados mais atualizados.\n>     *   **SearchGPT (OpenAI):** Apresentar sua combinação de IA generativa com informações da web (em fase de testes).\n> 8.  **Tendências Futuras:**\n> \n>     *   **Adoção Crescente:** Projetar o aumento do uso de IA para pesquisa.\n>     *   **Transformação do Marketing de Busca:** Discutir como o marketing de busca está se adaptando à crescente adoção de chatbots de IA.\n>     *   **IA como Protagonista:** Enfatizar que a IA está se tornando central na experiência de busca.\n> 9.  **Conclusão:**\n> \n>     *   **Recapitulação:** Resumir os principais pontos abordados no post.\n>     *   **Chamada para Ação:** Incentivar os leitores a experimentar os mecanismos de busca com IA e compartilhar suas experiências.\n>     *   **Pergunta Final:** Abrir espaço para discussão, perguntando aos leitores sobre suas expectativas em relação ao futuro da busca com IA.\n> \n> **Hashtags:**\n> \n> *   #InteligenciaArtificial\n> *   #MecanismosDeBusca\n> *   #AI\n> *   #BuscaOnline\n> *   #Inovacao\n> *   #Tecnologia\n> *   #FuturoDaBusca\n> *   #MarketingDigital\n> \n> **Ferramentas de Busca Adicionais:**\n> \n> Para enriquecer ainda mais o post, você pode pesquisar por:\n> \n> *   **Estudos de Caso:** Exemplos de empresas que implementaram IA em seus mecanismos de busca e obtiveram sucesso.\n> *   **Estatísticas Recentes:** Dados sobre o uso de IA em mecanismos de busca e seu impacto no comportamento do consumidor.\n> \n> Com este plano detalhado, você estará pronto para criar um post no LinkedIn informativo e envolvente sobre o impacto da IA nos mecanismos de busca.\n> \n"
          },
          "metadata": {}
        },
        {
          "output_type": "stream",
          "name": "stdout",
          "text": [
            "--------------------------------------------------------------\n",
            "\n",
            "--- 📝 Resultado do Agente 3 (Redator) ---\n",
            "\n"
          ]
        },
        {
          "output_type": "display_data",
          "data": {
            "text/plain": [
              "<IPython.core.display.Markdown object>"
            ],
            "text/markdown": "> Okay, I will create a draft LinkedIn post based on the provided plan. Here is the draft:\n> \n> **Draft LinkedIn Post:**\n> \n> Are you ready to redefine how you search for information? \n> \n> Artificial Intelligence (AI) is revolutionizing search engines, creating experiences that are not only more personalized but also significantly more efficient. Let's dive into how AI is reshaping the future of online search!\n> \n> 🔍 **The AI Impact: Personalization and Precision**\n> AI algorithms, such as Google’s RankBrain and Bing's AI, go beyond keywords to truly understand user intent. By interpreting context and semantics, AI delivers search results with unprecedented accuracy.\n> \n> 🗣️ **NLP and Image Recognition**\n> Natural Language Processing (NLP) enables search engines to understand human language, improving the relevance of search results. Image recognition expands search capabilities, allowing you to find information using images.\n> \n> 🤖 **AI Applications in Search Engines**\n> *   **Google:** Using AI to provide faster, more precise results by recognizing synonyms and related topics.\n> *   **Bing:** Integrating AI to offer intelligent suggestions and answers, enhancing user experience.\n> *   **AI Chatbots:** Generative AI chatbots are emerging as alternatives to traditional search engines, providing direct answers to your queries.\n> \n> 🆚 **AI vs. Traditional Search Engines**\n> AI-driven search engines offer direct result summaries, saving you time and focusing on semantics rather than just keywords. The result? A more personalized and conversational experience.\n> \n> ⚠️ **Challenges and Considerations**\n> While AI offers incredible benefits, it's crucial to address content quality, authenticity, and potential biases in search results. High-value content authentication and government regulations are vital.\n> \n> 🛠️ **AI Search Tools to Explore**\n> *   **Perplexity AI:** Known for its concise answers with reliable sources.\n> *   **You.com:** Offers personalized search experiences with different modes.\n> *   **Elicit:** A go-to for researchers and students.\n> *   **ChatGPT:** Evolving into a comprehensive research tool.\n> *   **Google AI Mode:** Using the Gemini 2.0 model for the freshest results.\n> *   **SearchGPT (OpenAI):** Testing the combination of generative AI with web information.\n> \n> 🚀 **Future Trends**\n> Expect increased adoption of AI in search, transforming search engine marketing and placing AI at the heart of the search experience.\n> \n> 💡 **What are your expectations for the future of AI-enhanced search?** Share your thoughts in the comments below! Let's discuss how AI is changing the way we find information.\n> \n> #AI #SearchEngines #ArtificialIntelligence #FutureofSearch #Innovation #TechTrends\n> \n"
          },
          "metadata": {}
        },
        {
          "output_type": "stream",
          "name": "stdout",
          "text": [
            "--------------------------------------------------------------\n",
            "\n",
            "--- 📝 Resultado do Agente 4 (Revisor) ---\n",
            "\n"
          ]
        },
        {
          "output_type": "display_data",
          "data": {
            "text/plain": [
              "<IPython.core.display.Markdown object>"
            ],
            "text/markdown": "> O rascunho está ótimo e pronto para publicar!\n"
          },
          "metadata": {}
        },
        {
          "output_type": "stream",
          "name": "stdout",
          "text": [
            "--------------------------------------------------------------\n"
          ]
        }
      ]
    }
  ]
}